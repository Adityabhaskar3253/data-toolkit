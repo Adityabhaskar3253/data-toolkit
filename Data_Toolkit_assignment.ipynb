{
  "nbformat": 4,
  "nbformat_minor": 0,
  "metadata": {
    "colab": {
      "provenance": []
    },
    "kernelspec": {
      "name": "python3",
      "display_name": "Python 3"
    },
    "language_info": {
      "name": "python"
    }
  },
  "cells": [
    {
      "cell_type": "markdown",
      "source": [
        "# Thyeory questions"
      ],
      "metadata": {
        "id": "ITM5GK0YDRS4"
      }
    },
    {
      "cell_type": "markdown",
      "source": [
        "**1.What is NumPy, and why is it widely used in Python?**\n",
        "\n",
        "->\n",
        "NumPy is a powerful Python library for numerical computing, providing support for large, multi-dimensional arrays and matrices, along with a collection of high-level mathematical functions to operate on them. It is widely used because it offers efficient array operations, speed (via underlying C implementations), and serves as the foundation for many data science and machine learning libraries like Pandas, TensorFlow, and SciPy"
      ],
      "metadata": {
        "id": "ZyHmTlCoDXpB"
      }
    },
    {
      "cell_type": "markdown",
      "source": [
        "**2.How does broadcasting work in NumPy?**\n",
        "\n",
        "->\n",
        "Broadcasting in NumPy allows operations on arrays of different shapes by automatically expanding their dimensions to match each other. This eliminates the need for explicit replication, enabling element-wise operations across mismatched shapes as long as they are compatible. Compatibility is determined by comparing shapes from right to left, ensuring dimensions are either equal, one of them is 1, or one of them is missing."
      ],
      "metadata": {
        "id": "MOsextA8Dvjv"
      }
    },
    {
      "cell_type": "markdown",
      "source": [
        "**3.What is a Pandas DataFrame?**\n",
        "\n",
        "-> A Pandas DataFrame is a two-dimensional, tabular data structure in Python, similar to a spreadsheet or SQL table. It consists of rows and columns, where each column can hold data of different types (e.g., integers, floats, strings). It provides powerful tools for data manipulation, analysis, and cleaning, including indexing, filtering, grouping, and handling missing data."
      ],
      "metadata": {
        "id": "z9WcyPeFD-5S"
      }
    },
    {
      "cell_type": "markdown",
      "source": [
        "**4.Explain the use of the groupby() method in Pandas?**\n",
        "\n",
        "->The groupby() method in Pandas is used to group data based on one or more columns. It splits the data into groups, applies a function (e.g., aggregation, transformation), and then combines the results. This is useful for tasks like calculating summary statistics (e.g., sum, mean) for each group or performing operations on subsets of the data."
      ],
      "metadata": {
        "id": "cXXlHxroELC5"
      }
    },
    {
      "cell_type": "markdown",
      "source": [
        "**5.Why is Seaborn preferred for statistical visualizations?**\n",
        "\n",
        "-> Seaborn is preferred for statistical visualizations because it provides high-level, aesthetically pleasing charts with minimal code. It integrates well with Pandas, supports complex statistical plots (e.g., heatmaps, pair plots, regression plots), and handles dataset aggregation and color themes automatically, making it ideal for exploratory data analysis."
      ],
      "metadata": {
        "id": "D4XTdHRBEiHp"
      }
    },
    {
      "cell_type": "markdown",
      "source": [
        " **6.What are the differences between NumPy arrays and Python lists?**\n",
        "\n",
        " -> **Performance:** NumPy arrays are faster and more memory-efficient than Python lists due to their fixed, homogeneous data type and C-based implementation.\n",
        "\n",
        "**Functionality:** NumPy arrays support advanced mathematical operations, broadcasting, and multi-dimensional arrays, unlike Python lists.\n",
        "\n",
        "**Homogeneity:** NumPy arrays require all elements to be of the same data type, while Python lists can store mixed data types.\n",
        "\n",
        "**Flexibility:** Python lists are more versatile for general-purpose programming, while NumPy arrays are optimized for numerical computing."
      ],
      "metadata": {
        "id": "rBcmX8M-E2um"
      }
    },
    {
      "cell_type": "markdown",
      "source": [
        "**7.What is a heatmap, and when should it be used?**\n",
        "\n",
        "-> A heatmap is a data visualization technique that represents values in a matrix using color gradients. It is best used to identify patterns, correlations, or anomalies in data, such as relationships in a correlation matrix or intensity across categories and variables.\n",
        "\n",
        "\n",
        "\n",
        "\n",
        "\n"
      ],
      "metadata": {
        "id": "A98SwrL3FOQy"
      }
    },
    {
      "cell_type": "markdown",
      "source": [
        "**8.What does the term “vectorized operation” mean in NumPy?**\n",
        "\n",
        "-> A vectorized operation in NumPy refers to performing element-wise computations on entire arrays without using explicit loops. This approach leverages optimized C implementations under the hood, making operations faster, more concise, and efficient compared to traditional Python loops."
      ],
      "metadata": {
        "id": "OHsTE5upFgrl"
      }
    },
    {
      "cell_type": "markdown",
      "source": [
        "**9.How does Matplotlib differ from Plotly?**\n",
        "\n",
        "->\n",
        "**Interactivity:** Matplotlib creates static, publication-quality plots, while Plotly supports interactive, web-based visualizations.\n",
        "\n",
        "**Ease of Use:** Matplotlib offers flexibility for customization but requires more code, whereas Plotly provides an easier interface for complex interactive plots.\n",
        "\n",
        "**Integration:** Plotly integrates seamlessly with web applications, while Matplotlib is better suited for offline and static use cases."
      ],
      "metadata": {
        "id": "vptZUd9OFxzy"
      }
    },
    {
      "cell_type": "markdown",
      "source": [
        "**10. What is the significance of hierarchical indexing in Panda?**\n",
        "\n",
        "->\n",
        "Hierarchical indexing in Pandas allows for multiple levels of indexing on rows and/or columns, enabling more complex data structures like multi-dimensional data in a two-dimensional DataFrame. It simplifies data organization, grouping, and reshaping operations, making it easier to work with high-dimensional datasets."
      ],
      "metadata": {
        "id": "hkDBET8nGC4K"
      }
    },
    {
      "cell_type": "markdown",
      "source": [
        "**11.What is the role of Seaborn’s pairplot() function?**\n",
        "\n",
        "-> Seaborn's pairplot() function creates a grid of scatter plots for pairwise relationships between numerical variables in a dataset. It also includes histograms or KDE plots on the diagonal to show the distribution of each variable. This function is useful for visualizing correlations and trends between multiple variables in a dataset."
      ],
      "metadata": {
        "id": "sHIn9HSbGQS7"
      }
    },
    {
      "cell_type": "markdown",
      "source": [
        "**12.What is the purpose of the describe() function in Pandas?**\n",
        "\n",
        "->\n",
        "The describe() function in Pandas generates summary statistics of numerical columns in a DataFrame, including count, mean, standard deviation, min, max, and quartiles. It provides a quick overview of the distribution and central tendencies of the data."
      ],
      "metadata": {
        "id": "-U3mQ7JNGd8C"
      }
    },
    {
      "cell_type": "markdown",
      "source": [
        "**13. Why is handling missing data important in Pandas?**\n",
        "\n",
        "-> Handling missing data is important in Pandas because missing values can lead to incorrect analysis, biased results, and errors in computations. Proper handling (e.g., imputation, removal) ensures data integrity, accurate analysis, and reliable statistical modeling."
      ],
      "metadata": {
        "id": "C7RcEI2rGsfb"
      }
    },
    {
      "cell_type": "markdown",
      "source": [
        "**14. What are the benefits of using Plotly for data visualization?**\n",
        "\n",
        "->\n",
        "The benefits of using Plotly for data visualization include interactive plots, easy integration with web applications, a wide range of chart types (e.g., 3D, geographic, animated), and customizable aesthetics. It also supports real-time updates and is well-suited for creating dashboards and sharing interactive visualizations online."
      ],
      "metadata": {
        "id": "G_7Dxl56G400"
      }
    },
    {
      "cell_type": "markdown",
      "source": [
        "**15. How does NumPy handle multidimensional arrays?**\n",
        "\n",
        "->\n",
        "NumPy handles multidimensional arrays using its ndarray object, which allows for efficient storage and manipulation of data in more than one dimension (e.g., 2D matrices, 3D tensors). Operations such as slicing, indexing, and broadcasting work seamlessly across dimensions, enabling complex mathematical and data analysis tasks."
      ],
      "metadata": {
        "id": "BprT7aS7HEAv"
      }
    },
    {
      "cell_type": "markdown",
      "source": [
        "**16. What is the role of Bokeh in data visualization?**\n",
        "\n",
        "-> Bokeh is a data visualization library that enables the creation of interactive, web-ready visualizations. It is particularly useful for building dashboards, interactive plots, and streaming data visualizations. Bokeh offers rich, customizable plotting capabilities with easy integration into web applications and supports real-time interactivity."
      ],
      "metadata": {
        "id": "yygCPyRoHScg"
      }
    },
    {
      "cell_type": "markdown",
      "source": [
        "**17. Explain the difference between apply() and map() in Pandas?**\n",
        "\n",
        "-> apply(): The apply() function is used to apply a function along an axis (rows or columns) of a DataFrame or Series. It is more flexible and can be used for complex operations on entire rows or columns.\n",
        "\n",
        "map(): The map() function is used to apply a function element-wise on a Series. It is typically used for transforming or mapping values, such as replacing or applying a function to each individual element in a column."
      ],
      "metadata": {
        "id": "I-FPlJnWHhrf"
      }
    },
    {
      "cell_type": "markdown",
      "source": [
        "**18.What are some advanced features of NumPy?**\n",
        "\n",
        "->\n",
        "Some advanced features of NumPy include:\n",
        "\n",
        "**Broadcasting:** Allows operations on arrays of different shapes.\n",
        "\n",
        "**Vectorization:** Enables efficient element-wise operations without explicit loops.\n",
        "\n",
        "**Advanced indexing:** Supports fancy indexing, slicing, and Boolean indexing.\n",
        "\n",
        "**Linear algebra:** Provides functions for matrix operations, eigenvalues, and decompositions.\n",
        "\n",
        "**Random module:** Offers advanced random number generation and statistical distributions.\n",
        "\n",
        "**Memory views:** Allows sharing of memory between arrays without copying data."
      ],
      "metadata": {
        "id": "lk_oXdFQHw7G"
      }
    },
    {
      "cell_type": "markdown",
      "source": [
        "**19. How does Pandas simplify time series analysis?**\n",
        "\n",
        "->\n",
        "Pandas simplifies time series analysis by providing specialized tools for handling date-time data, such as automatic date parsing, frequency conversion, resampling, and shifting. It also offers powerful indexing with DatetimeIndex, easy handling of missing values, and functions to calculate moving averages, rolling windows, and time-based grouping."
      ],
      "metadata": {
        "id": "nDPFe9gwIOGo"
      }
    },
    {
      "cell_type": "markdown",
      "source": [
        "**20.What is the role of a pivot table in Pandas?**\n",
        "\n",
        "->\n",
        "A pivot table in Pandas is used to summarize and aggregate data by reshaping it into a table with specified row and column indices. It allows for the calculation of aggregate statistics (e.g., sum, mean) for different groupings, making it useful for data summarization, comparisons, and exploration."
      ],
      "metadata": {
        "id": "cDzg4djOIdt5"
      }
    },
    {
      "cell_type": "markdown",
      "source": [
        "**21. Why is NumPy’s array slicing faster than Python’s list slicing?**\n",
        "\n",
        "->\n",
        "NumPy's array slicing is faster than Python's list slicing because NumPy arrays are implemented in C and store data in contiguous memory blocks. This allows for efficient memory access and manipulation. In contrast, Python lists are more flexible but involve additional overhead due to their dynamic and heterogeneous nature."
      ],
      "metadata": {
        "id": "mLZ3jFjBIss4"
      }
    },
    {
      "cell_type": "markdown",
      "source": [
        "**22. What are some common use cases for Seaborn?**\n",
        "\n",
        "->\n",
        "Common use cases for Seaborn include:\n",
        "\n",
        "Visualizing relationships between multiple variables (e.g., scatter plots, pair plots).\n",
        "\n",
        "Creating statistical plots (e.g., box plots, violin plots, histograms).\n",
        "\n",
        "Visualizing categorical data (e.g., bar plots, count plots).\n",
        "\n",
        "Analyzing correlations (e.g., heatmaps).\n",
        "\n",
        "Visualizing distribution and patterns in datasets with advanced color schemes and themes."
      ],
      "metadata": {
        "id": "sQBcUb-VI78-"
      }
    },
    {
      "cell_type": "markdown",
      "source": [
        "# Practical questions"
      ],
      "metadata": {
        "id": "bfGTf6xpJMXj"
      }
    },
    {
      "cell_type": "markdown",
      "source": [
        "**1. How do you create a 2D NumPy array and calculate the sum of each row?**\n",
        "\n",
        "-> You can create a 2D NumPy array and calculate the sum of each row using the following code:"
      ],
      "metadata": {
        "id": "QRODSKWOJQ7L"
      }
    },
    {
      "cell_type": "code",
      "source": [
        "import numpy as np\n",
        "\n",
        "# Create a 2D NumPy array\n",
        "array = np.array([[1, 2, 3], [4, 5, 6], [7, 8, 9]])\n",
        "\n",
        "# Calculate the sum of each row\n",
        "row_sums = np.sum(array, axis=1)\n",
        "\n",
        "print(row_sums)\n"
      ],
      "metadata": {
        "colab": {
          "base_uri": "https://localhost:8080/"
        },
        "id": "elPLuYlpG4NP",
        "outputId": "e480c97b-0f44-4347-e6b2-39fd2bff2df5"
      },
      "execution_count": 1,
      "outputs": [
        {
          "output_type": "stream",
          "name": "stdout",
          "text": [
            "[ 6 15 24]\n"
          ]
        }
      ]
    },
    {
      "cell_type": "markdown",
      "source": [
        "**2. Write a Pandas script to find the mean of a specific column in a DataFrame?**\n",
        "\n",
        "-> Here's a Pandas script to find the mean of a specific column in a DataFrame:"
      ],
      "metadata": {
        "id": "RX-_l2XTJm0u"
      }
    },
    {
      "cell_type": "code",
      "source": [
        "import pandas as pd\n",
        "\n",
        "# Create a sample DataFrame\n",
        "data = {'Name': ['Alice', 'Bob', 'Charlie', 'David'],\n",
        "        'Age': [25, 30, 35, 40],\n",
        "        'Salary': [50000, 60000, 70000, 80000]}\n",
        "\n",
        "df = pd.DataFrame(data)\n",
        "\n",
        "# Find the mean of the 'Salary' column\n",
        "mean_salary = df['Salary'].mean()\n",
        "\n",
        "print(f\"Mean Salary: {mean_salary}\")\n"
      ],
      "metadata": {
        "colab": {
          "base_uri": "https://localhost:8080/"
        },
        "id": "ffaWhSeVJk7a",
        "outputId": "b86d8f88-d49c-4f52-df7f-eb5d74b60dc4"
      },
      "execution_count": 2,
      "outputs": [
        {
          "output_type": "stream",
          "name": "stdout",
          "text": [
            "Mean Salary: 65000.0\n"
          ]
        }
      ]
    },
    {
      "cell_type": "markdown",
      "source": [
        "**3. Create a scatter plot using Matplotlib?**\n",
        "\n",
        "-> Here's a simple script to create a scatter plot using Matplotlib:"
      ],
      "metadata": {
        "id": "w1Yy4wbGJ5vV"
      }
    },
    {
      "cell_type": "code",
      "source": [
        "import matplotlib.pyplot as plt\n",
        "\n",
        "# Data for the scatter plot\n",
        "x = [1, 2, 3, 4, 5]\n",
        "y = [2, 4, 6, 8, 10]\n",
        "\n",
        "# Create a scatter plot\n",
        "plt.scatter(x, y)\n",
        "\n",
        "# Add labels and title\n",
        "plt.xlabel('X-axis')\n",
        "plt.ylabel('Y-axis')\n",
        "plt.title('Simple Scatter Plot')\n",
        "\n",
        "# Show the plot\n",
        "plt.show()\n"
      ],
      "metadata": {
        "colab": {
          "base_uri": "https://localhost:8080/",
          "height": 472
        },
        "id": "iSYw_qUCJ4Ic",
        "outputId": "eb7d1a4b-bfc1-46e2-8002-020a6542cf0d"
      },
      "execution_count": 3,
      "outputs": [
        {
          "output_type": "display_data",
          "data": {
            "text/plain": [
              "<Figure size 640x480 with 1 Axes>"
            ],
            "image/png": "[encoded data removed]"
          },
          "metadata": {}
        }
      ]
    },
    {
      "cell_type": "markdown",
      "source": [
        "**4. How do you calculate the correlation matrix using Seaborn and visualize it with a heatmap?**\n",
        "\n",
        "->\n",
        "You can calculate the correlation matrix using Pandas and visualize it with Seaborn's heatmap function. Here's a script:"
      ],
      "metadata": {
        "id": "L1F_dCjvKLtw"
      }
    },
    {
      "cell_type": "code",
      "source": [
        "import seaborn as sns\n",
        "import pandas as pd\n",
        "import matplotlib.pyplot as plt\n",
        "\n",
        "# Sample data\n",
        "data = {'A': [1, 2, 3, 4, 5],\n",
        "        'B': [5, 4, 3, 2, 1],\n",
        "        'C': [2, 3, 4, 5, 6],\n",
        "        'D': [7, 8, 9, 10, 11]}\n",
        "\n",
        "# Create a DataFrame\n",
        "df = pd.DataFrame(data)\n",
        "\n",
        "# Calculate the correlation matrix\n",
        "corr_matrix = df.corr()\n",
        "\n",
        "# Create a heatmap to visualize the correlation matrix\n",
        "sns.heatmap(corr_matrix, annot=True, cmap='coolwarm', fmt='.2f', linewidths=0.5)\n",
        "\n",
        "# Display the plot\n",
        "plt.title('Correlation Matrix Heatmap')\n",
        "plt.show()\n"
      ],
      "metadata": {
        "colab": {
          "base_uri": "https://localhost:8080/",
          "height": 452
        },
        "id": "_pRF3X_rKF39",
        "outputId": "23256849-cc93-43e5-e58d-6b62d4f266fb"
      },
      "execution_count": 4,
      "outputs": [
        {
          "output_type": "display_data",
          "data": {
            "text/plain": [
              "<Figure size 640x480 with 2 Axes>"
            ],
            "image/png": "[encoded data removed]"
          },
          "metadata": {}
        }
      ]
    },
    {
      "cell_type": "markdown",
      "source": [
        "**5. Generate a bar plot using Plotly?**\n",
        "\n",
        "->\n",
        "Here’s how you can generate a bar plot using Plotly:"
      ],
      "metadata": {
        "id": "Xz93syw3KXu9"
      }
    },
    {
      "cell_type": "code",
      "source": [
        "import plotly.graph_objects as go\n",
        "\n",
        "# Data for the bar plot\n",
        "categories = ['A', 'B', 'C', 'D', 'E']\n",
        "values = [10, 20, 30, 40, 50]\n",
        "\n",
        "# Create a bar plot\n",
        "fig = go.Figure(data=[go.Bar(x=categories, y=values)])\n",
        "\n",
        "# Add title and labels\n",
        "fig.update_layout(\n",
        "    title='Simple Bar Plot',\n",
        "    xaxis_title='Categories',\n",
        "    yaxis_title='Values'\n",
        ")\n",
        "\n",
        "# Show the plot\n",
        "fig.show()\n",
        "\n"
      ],
      "metadata": {
        "colab": {
          "base_uri": "https://localhost:8080/",
          "height": 542
        },
        "id": "4UEkwNmxKXCs",
        "outputId": "fa73a2a2-909f-4761-f09e-8be2e0c6b80c"
      },
      "execution_count": 5,
      "outputs": [
        {
          "output_type": "display_data",
          "data": {
            "text/html": [
              "<html>\n",
              "<head><meta charset=\"utf-8\" /></head>\n",
              "<body>\n",
              "    <div>            <script src=\"https://cdnjs.cloudflare.com/ajax/libs/mathjax/2.7.5/MathJax.js?config=TeX-AMS-MML_SVG\"></script><script type=\"text/javascript\">if (window.MathJax && window.MathJax.Hub && window.MathJax.Hub.Config) {window.MathJax.Hub.Config({SVG: {font: \"STIX-Web\"}});}</script>                <script type=\"text/javascript\">window.PlotlyConfig = {MathJaxConfig: 'local'};</script>\n",
              "        <script charset=\"utf-8\" src=\"https://cdn.plot.ly/plotly-2.35.2.min.js\"></script>                <div id=\"c9b7b332-d70a-4c4c-b575-0621208a03fc\" class=\"plotly-graph-div\" style=\"height:525px; width:100%;\"></div>            <script type=\"text/javascript\">                                    window.PLOTLYENV=window.PLOTLYENV || {};                                    if (document.getElementById(\"c9b7b332-d70a-4c4c-b575-0621208a03fc\")) {                    Plotly.newPlot(                        \"c9b7b332-d70a-4c4c-b575-0621208a03fc\",                        [{\"x\":[\"A\",\"B\",\"C\",\"D\",\"E\"],\"y\":[10,20,30,40,50],\"type\":\"bar\"}],                        {\"template\":{\"data\":{\"histogram2dcontour\":[{\"type\":\"histogram2dcontour\",\"colorbar\":{\"outlinewidth\":0,\"ticks\":\"\"},\"colorscale\":[[0.0,\"#0d0887\"],[0.1111111111111111,\"#46039f\"],[0.2222222222222222,\"#7201a8\"],[0.3333333333333333,\"#9c179e\"],[0.4444444444444444,\"#bd3786\"],[0.5555555555555556,\"#d8576b\"],[0.6666666666666666,\"#ed7953\"],[0.7777777777777778,\"#fb9f3a\"],[0.8888888888888888,\"#fdca26\"],[1.0,\"#f0f921\"]]}],\"choropleth\":[{\"type\":\"choropleth\",\"colorbar\":{\"outlinewidth\":0,\"ticks\":\"\"}}],\"histogram2d\":[{\"type\":\"histogram2d\",\"colorbar\":{\"outlinewidth\":0,\"ticks\":\"\"},\"colorscale\":[[0.0,\"#0d0887\"],[0.1111111111111111,\"#46039f\"],[0.2222222222222222,\"#7201a8\"],[0.3333333333333333,\"#9c179e\"],[0.4444444444444444,\"#bd3786\"],[0.5555555555555556,\"#d8576b\"],[0.6666666666666666,\"#ed7953\"],[0.7777777777777778,\"#fb9f3a\"],[0.8888888888888888,\"#fdca26\"],[1.0,\"#f0f921\"]]}],\"heatmap\":[{\"type\":\"heatmap\",\"colorbar\":{\"outlinewidth\":0,\"ticks\":\"\"},\"colorscale\":[[0.0,\"#0d0887\"],[0.1111111111111111,\"#46039f\"],[0.2222222222222222,\"#7201a8\"],[0.3333333333333333,\"#9c179e\"],[0.4444444444444444,\"#bd3786\"],[0.5555555555555556,\"#d8576b\"],[0.6666666666666666,\"#ed7953\"],[0.7777777777777778,\"#fb9f3a\"],[0.8888888888888888,\"#fdca26\"],[1.0,\"#f0f921\"]]}],\"heatmapgl\":[{\"type\":\"heatmapgl\",\"colorbar\":{\"outlinewidth\":0,\"ticks\":\"\"},\"colorscale\":[[0.0,\"#0d0887\"],[0.1111111111111111,\"#46039f\"],[0.2222222222222222,\"#7201a8\"],[0.3333333333333333,\"#9c179e\"],[0.4444444444444444,\"#bd3786\"],[0.5555555555555556,\"#d8576b\"],[0.6666666666666666,\"#ed7953\"],[0.7777777777777778,\"#fb9f3a\"],[0.8888888888888888,\"#fdca26\"],[1.0,\"#f0f921\"]]}],\"contourcarpet\":[{\"type\":\"contourcarpet\",\"colorbar\":{\"outlinewidth\":0,\"ticks\":\"\"}}],\"contour\":[{\"type\":\"contour\",\"colorbar\":{\"outlinewidth\":0,\"ticks\":\"\"},\"colorscale\":[[0.0,\"#0d0887\"],[0.1111111111111111,\"#46039f\"],[0.2222222222222222,\"#7201a8\"],[0.3333333333333333,\"#9c179e\"],[0.4444444444444444,\"#bd3786\"],[0.5555555555555556,\"#d8576b\"],[0.6666666666666666,\"#ed7953\"],[0.7777777777777778,\"#fb9f3a\"],[0.8888888888888888,\"#fdca26\"],[1.0,\"#f0f921\"]]}],\"surface\":[{\"type\":\"surface\",\"colorbar\":{\"outlinewidth\":0,\"ticks\":\"\"},\"colorscale\":[[0.0,\"#0d0887\"],[0.1111111111111111,\"#46039f\"],[0.2222222222222222,\"#7201a8\"],[0.3333333333333333,\"#9c179e\"],[0.4444444444444444,\"#bd3786\"],[0.5555555555555556,\"#d8576b\"],[0.6666666666666666,\"#ed7953\"],[0.7777777777777778,\"#fb9f3a\"],[0.8888888888888888,\"#fdca26\"],[1.0,\"#f0f921\"]]}],\"mesh3d\":[{\"type\":\"mesh3d\",\"colorbar\":{\"outlinewidth\":0,\"ticks\":\"\"}}],\"scatter\":[{\"fillpattern\":{\"fillmode\":\"overlay\",\"size\":10,\"solidity\":0.2},\"type\":\"scatter\"}],\"parcoords\":[{\"type\":\"parcoords\",\"line\":{\"colorbar\":{\"outlinewidth\":0,\"ticks\":\"\"}}}],\"scatterpolargl\":[{\"type\":\"scatterpolargl\",\"marker\":{\"colorbar\":{\"outlinewidth\":0,\"ticks\":\"\"}}}],\"bar\":[{\"error_x\":{\"color\":\"#2a3f5f\"},\"error_y\":{\"color\":\"#2a3f5f\"},\"marker\":{\"line\":{\"color\":\"#E5ECF6\",\"width\":0.5},\"pattern\":{\"fillmode\":\"overlay\",\"size\":10,\"solidity\":0.2}},\"type\":\"bar\"}],\"scattergeo\":[{\"type\":\"scattergeo\",\"marker\":{\"colorbar\":{\"outlinewidth\":0,\"ticks\":\"\"}}}],\"scatterpolar\":[{\"type\":\"scatterpolar\",\"marker\":{\"colorbar\":{\"outlinewidth\":0,\"ticks\":\"\"}}}],\"histogram\":[{\"marker\":{\"pattern\":{\"fillmode\":\"overlay\",\"size\":10,\"solidity\":0.2}},\"type\":\"histogram\"}],\"scattergl\":[{\"type\":\"scattergl\",\"marker\":{\"colorbar\":{\"outlinewidth\":0,\"ticks\":\"\"}}}],\"scatter3d\":[{\"type\":\"scatter3d\",\"line\":{\"colorbar\":{\"outlinewidth\":0,\"ticks\":\"\"}},\"marker\":{\"colorbar\":{\"outlinewidth\":0,\"ticks\":\"\"}}}],\"scattermapbox\":[{\"type\":\"scattermapbox\",\"marker\":{\"colorbar\":{\"outlinewidth\":0,\"ticks\":\"\"}}}],\"scatterternary\":[{\"type\":\"scatterternary\",\"marker\":{\"colorbar\":{\"outlinewidth\":0,\"ticks\":\"\"}}}],\"scattercarpet\":[{\"type\":\"scattercarpet\",\"marker\":{\"colorbar\":{\"outlinewidth\":0,\"ticks\":\"\"}}}],\"carpet\":[{\"aaxis\":{\"endlinecolor\":\"#2a3f5f\",\"gridcolor\":\"white\",\"linecolor\":\"white\",\"minorgridcolor\":\"white\",\"startlinecolor\":\"#2a3f5f\"},\"baxis\":{\"endlinecolor\":\"#2a3f5f\",\"gridcolor\":\"white\",\"linecolor\":\"white\",\"minorgridcolor\":\"white\",\"startlinecolor\":\"#2a3f5f\"},\"type\":\"carpet\"}],\"table\":[{\"cells\":{\"fill\":{\"color\":\"#EBF0F8\"},\"line\":{\"color\":\"white\"}},\"header\":{\"fill\":{\"color\":\"#C8D4E3\"},\"line\":{\"color\":\"white\"}},\"type\":\"table\"}],\"barpolar\":[{\"marker\":{\"line\":{\"color\":\"#E5ECF6\",\"width\":0.5},\"pattern\":{\"fillmode\":\"overlay\",\"size\":10,\"solidity\":0.2}},\"type\":\"barpolar\"}],\"pie\":[{\"automargin\":true,\"type\":\"pie\"}]},\"layout\":{\"autotypenumbers\":\"strict\",\"colorway\":[\"#636efa\",\"#EF553B\",\"#00cc96\",\"#ab63fa\",\"#FFA15A\",\"#19d3f3\",\"#FF6692\",\"#B6E880\",\"#FF97FF\",\"#FECB52\"],\"font\":{\"color\":\"#2a3f5f\"},\"hovermode\":\"closest\",\"hoverlabel\":{\"align\":\"left\"},\"paper_bgcolor\":\"white\",\"plot_bgcolor\":\"#E5ECF6\",\"polar\":{\"bgcolor\":\"#E5ECF6\",\"angularaxis\":{\"gridcolor\":\"white\",\"linecolor\":\"white\",\"ticks\":\"\"},\"radialaxis\":{\"gridcolor\":\"white\",\"linecolor\":\"white\",\"ticks\":\"\"}},\"ternary\":{\"bgcolor\":\"#E5ECF6\",\"aaxis\":{\"gridcolor\":\"white\",\"linecolor\":\"white\",\"ticks\":\"\"},\"baxis\":{\"gridcolor\":\"white\",\"linecolor\":\"white\",\"ticks\":\"\"},\"caxis\":{\"gridcolor\":\"white\",\"linecolor\":\"white\",\"ticks\":\"\"}},\"coloraxis\":{\"colorbar\":{\"outlinewidth\":0,\"ticks\":\"\"}},\"colorscale\":{\"sequential\":[[0.0,\"#0d0887\"],[0.1111111111111111,\"#46039f\"],[0.2222222222222222,\"#7201a8\"],[0.3333333333333333,\"#9c179e\"],[0.4444444444444444,\"#bd3786\"],[0.5555555555555556,\"#d8576b\"],[0.6666666666666666,\"#ed7953\"],[0.7777777777777778,\"#fb9f3a\"],[0.8888888888888888,\"#fdca26\"],[1.0,\"#f0f921\"]],\"sequentialminus\":[[0.0,\"#0d0887\"],[0.1111111111111111,\"#46039f\"],[0.2222222222222222,\"#7201a8\"],[0.3333333333333333,\"#9c179e\"],[0.4444444444444444,\"#bd3786\"],[0.5555555555555556,\"#d8576b\"],[0.6666666666666666,\"#ed7953\"],[0.7777777777777778,\"#fb9f3a\"],[0.8888888888888888,\"#fdca26\"],[1.0,\"#f0f921\"]],\"diverging\":[[0,\"#8e0152\"],[0.1,\"#c51b7d\"],[0.2,\"#de77ae\"],[0.3,\"#f1b6da\"],[0.4,\"#fde0ef\"],[0.5,\"#f7f7f7\"],[0.6,\"#e6f5d0\"],[0.7,\"#b8e186\"],[0.8,\"#7fbc41\"],[0.9,\"#4d9221\"],[1,\"#276419\"]]},\"xaxis\":{\"gridcolor\":\"white\",\"linecolor\":\"white\",\"ticks\":\"\",\"title\":{\"standoff\":15},\"zerolinecolor\":\"white\",\"automargin\":true,\"zerolinewidth\":2},\"yaxis\":{\"gridcolor\":\"white\",\"linecolor\":\"white\",\"ticks\":\"\",\"title\":{\"standoff\":15},\"zerolinecolor\":\"white\",\"automargin\":true,\"zerolinewidth\":2},\"scene\":{\"xaxis\":{\"backgroundcolor\":\"#E5ECF6\",\"gridcolor\":\"white\",\"linecolor\":\"white\",\"showbackground\":true,\"ticks\":\"\",\"zerolinecolor\":\"white\",\"gridwidth\":2},\"yaxis\":{\"backgroundcolor\":\"#E5ECF6\",\"gridcolor\":\"white\",\"linecolor\":\"white\",\"showbackground\":true,\"ticks\":\"\",\"zerolinecolor\":\"white\",\"gridwidth\":2},\"zaxis\":{\"backgroundcolor\":\"#E5ECF6\",\"gridcolor\":\"white\",\"linecolor\":\"white\",\"showbackground\":true,\"ticks\":\"\",\"zerolinecolor\":\"white\",\"gridwidth\":2}},\"shapedefaults\":{\"line\":{\"color\":\"#2a3f5f\"}},\"annotationdefaults\":{\"arrowcolor\":\"#2a3f5f\",\"arrowhead\":0,\"arrowwidth\":1},\"geo\":{\"bgcolor\":\"white\",\"landcolor\":\"#E5ECF6\",\"subunitcolor\":\"white\",\"showland\":true,\"showlakes\":true,\"lakecolor\":\"white\"},\"title\":{\"x\":0.05},\"mapbox\":{\"style\":\"light\"}}},\"title\":{\"text\":\"Simple Bar Plot\"},\"xaxis\":{\"title\":{\"text\":\"Categories\"}},\"yaxis\":{\"title\":{\"text\":\"Values\"}}},                        {\"responsive\": true}                    ).then(function(){\n",
              "                            \n",
              "var gd = document.getElementById('c9b7b332-d70a-4c4c-b575-0621208a03fc');\n",
              "var x = new MutationObserver(function (mutations, observer) {{\n",
              "        var display = window.getComputedStyle(gd).display;\n",
              "        if (!display || display === 'none') {{\n",
              "            console.log([gd, 'removed!']);\n",
              "            Plotly.purge(gd);\n",
              "            observer.disconnect();\n",
              "        }}\n",
              "}});\n",
              "\n",
              "// Listen for the removal of the full notebook cells\n",
              "var notebookContainer = gd.closest('#notebook-container');\n",
              "if (notebookContainer) {{\n",
              "    x.observe(notebookContainer, {childList: true});\n",
              "}}\n",
              "\n",
              "// Listen for the clearing of the current output cell\n",
              "var outputEl = gd.closest('.output');\n",
              "if (outputEl) {{\n",
              "    x.observe(outputEl, {childList: true});\n",
              "}}\n",
              "\n",
              "                        })                };                            </script>        </div>\n",
              "</body>\n",
              "</html>"
            ]
          },
          "metadata": {}
        }
      ]
    },
    {
      "cell_type": "markdown",
      "source": [
        "**6.Create a DataFrame and add a new column based on an existing column?**\n",
        "\n",
        "-> Here's a script to create a DataFrame and add a new column based on an existing column:"
      ],
      "metadata": {
        "id": "PtXZF5c3Ko2B"
      }
    },
    {
      "cell_type": "code",
      "source": [
        "import pandas as pd\n",
        "\n",
        "# Create a sample DataFrame\n",
        "data = {'Name': ['Alice', 'Bob', 'Charlie', 'David'],\n",
        "        'Age': [25, 30, 35, 40]}\n",
        "\n",
        "df = pd.DataFrame(data)\n",
        "\n",
        "# Add a new column 'Age in 5 Years' based on the existing 'Age' column\n",
        "df['Age in 5 Years'] = df['Age'] + 5\n",
        "\n",
        "# Display the updated DataFrame\n",
        "print(df)\n"
      ],
      "metadata": {
        "colab": {
          "base_uri": "https://localhost:8080/"
        },
        "id": "wCkzdi6wKlMD",
        "outputId": "5f278e67-946f-49f3-89ec-1867c07e6177"
      },
      "execution_count": 6,
      "outputs": [
        {
          "output_type": "stream",
          "name": "stdout",
          "text": [
            "      Name  Age  Age in 5 Years\n",
            "0    Alice   25              30\n",
            "1      Bob   30              35\n",
            "2  Charlie   35              40\n",
            "3    David   40              45\n"
          ]
        }
      ]
    },
    {
      "cell_type": "markdown",
      "source": [
        "**7.Write a program to perform element-wise multiplication of two NumPy arrays?**\n",
        "\n",
        "->\n",
        "Here's a program to perform element-wise multiplication of two NumPy arrays:"
      ],
      "metadata": {
        "id": "VyU-aCU5K6-f"
      }
    },
    {
      "cell_type": "code",
      "source": [
        "import numpy as np\n",
        "\n",
        "# Create two NumPy arrays\n",
        "array1 = np.array([1, 2, 3, 4])\n",
        "array2 = np.array([5, 6, 7, 8])\n",
        "\n",
        "# Perform element-wise multiplication\n",
        "result = array1 * array2\n",
        "\n",
        "# Display the result\n",
        "print(\"Result of element-wise multiplication:\", result)\n"
      ],
      "metadata": {
        "colab": {
          "base_uri": "https://localhost:8080/"
        },
        "id": "6pyPE5WYK3YN",
        "outputId": "8ad7618f-8488-43c0-a279-2c9a5a37d0a8"
      },
      "execution_count": 7,
      "outputs": [
        {
          "output_type": "stream",
          "name": "stdout",
          "text": [
            "Result of element-wise multiplication: [ 5 12 21 32]\n"
          ]
        }
      ]
    },
    {
      "cell_type": "markdown",
      "source": [
        "**8.Create a line plot with multiple lines using Matplotlib?**\n",
        "\n",
        "-> Here’s a script to create a line plot with multiple lines using Matplotlib:"
      ],
      "metadata": {
        "id": "r37ZQ9YELRbg"
      }
    },
    {
      "cell_type": "code",
      "source": [
        "import matplotlib.pyplot as plt\n",
        "\n",
        "# Data for the line plot\n",
        "x = [0, 1, 2, 3, 4, 5]\n",
        "y1 = [0, 1, 4, 9, 16, 25]\n",
        "y2 = [0, 1, 2, 3, 4, 5]\n",
        "y3 = [0, -1, -2, -3, -4, -5]\n",
        "\n",
        "# Create a line plot with multiple lines\n",
        "plt.plot(x, y1, label='y = x^2', color='blue', marker='o')\n",
        "plt.plot(x, y2, label='y = x', color='green', marker='x')\n",
        "plt.plot(x, y3, label='y = -x', color='red', marker='^')\n",
        "\n",
        "# Add labels and title\n",
        "plt.xlabel('X-axis')\n",
        "plt.ylabel('Y-axis')\n",
        "plt.title('Multiple Line Plot')\n",
        "\n",
        "# Display legend\n",
        "plt.legend()\n",
        "\n",
        "# Show the plot\n",
        "plt.show()\n"
      ],
      "metadata": {
        "colab": {
          "base_uri": "https://localhost:8080/",
          "height": 472
        },
        "id": "NnJSRqEyLPiX",
        "outputId": "c5911b27-5dce-407d-faa0-8261c8e0f269"
      },
      "execution_count": 8,
      "outputs": [
        {
          "output_type": "display_data",
          "data": {
            "text/plain": [
              "<Figure size 640x480 with 1 Axes>"
            ],
            "image/png": "[encoded data removed]"
          },
          "metadata": {}
        }
      ]
    },
    {
      "cell_type": "markdown",
      "source": [
        "**9.Generate a Pandas DataFrame and filter rows where a column value is greater than a threshold?**\n",
        "\n",
        "->\n",
        "Here’s a script to generate a Pandas DataFrame and filter rows where a column value is greater than a threshold:"
      ],
      "metadata": {
        "id": "09r-b6TGLqXr"
      }
    },
    {
      "cell_type": "code",
      "source": [
        "import pandas as pd\n",
        "\n",
        "# Create a sample DataFrame\n",
        "data = {'Name': ['Alice', 'Bob', 'Charlie', 'David', 'Eva'],\n",
        "        'Age': [25, 30, 35, 40, 28]}\n",
        "\n",
        "df = pd.DataFrame(data)\n",
        "\n",
        "# Define the threshold\n",
        "threshold = 30\n",
        "\n",
        "# Filter rows where 'Age' is greater than the threshold\n",
        "filtered_df = df[df['Age'] > threshold]\n",
        "\n",
        "# Display the filtered DataFrame\n",
        "print(filtered_df)\n"
      ],
      "metadata": {
        "colab": {
          "base_uri": "https://localhost:8080/"
        },
        "id": "KdNjPJKOLpIk",
        "outputId": "a134fbab-f577-4074-d22d-069e73e909be"
      },
      "execution_count": 9,
      "outputs": [
        {
          "output_type": "stream",
          "name": "stdout",
          "text": [
            "      Name  Age\n",
            "2  Charlie   35\n",
            "3    David   40\n"
          ]
        }
      ]
    },
    {
      "cell_type": "markdown",
      "source": [
        "**10.Create a histogram using Seaborn to visualize a distribution?**\n",
        "\n",
        "-> Here’s a script to create a histogram using Seaborn to visualize a distribution:\n"
      ],
      "metadata": {
        "id": "0xGDpJ1sL5Dw"
      }
    },
    {
      "cell_type": "code",
      "source": [
        "import seaborn as sns\n",
        "import matplotlib.pyplot as plt\n",
        "\n",
        "# Sample data\n",
        "data = [23, 45, 56, 78, 23, 45, 67, 89, 23, 56, 34, 45, 67, 89, 90]\n",
        "\n",
        "# Create a histogram with Seaborn\n",
        "sns.histplot(data, bins=10, kde=True)\n",
        "\n",
        "# Add labels and title\n",
        "plt.xlabel('Value')\n",
        "plt.ylabel('Frequency')\n",
        "plt.title('Histogram with KDE')\n",
        "\n",
        "# Show the plot\n",
        "plt.show()\n"
      ],
      "metadata": {
        "colab": {
          "base_uri": "https://localhost:8080/",
          "height": 472
        },
        "id": "906D0Bz5L4Wj",
        "outputId": "c38cc079-e85a-4659-aff6-d48957490739"
      },
      "execution_count": 10,
      "outputs": [
        {
          "output_type": "display_data",
          "data": {
            "text/plain": [
              "<Figure size 640x480 with 1 Axes>"
            ],
            "image/png": "[encoded data removed]"
          },
          "metadata": {}
        }
      ]
    },
    {
      "cell_type": "markdown",
      "source": [
        "**11.A Perform matrix multiplication using NumPy?**\n",
        "\n",
        "->\n",
        "Here’s how you can perform matrix multiplication using NumPy:"
      ],
      "metadata": {
        "id": "Tz3ianQXMG-s"
      }
    },
    {
      "cell_type": "code",
      "source": [
        "import numpy as np\n",
        "\n",
        "# Create two 2D NumPy arrays (matrices)\n",
        "matrix1 = np.array([[1, 2], [3, 4]])\n",
        "matrix2 = np.array([[5, 6], [7, 8]])\n",
        "\n",
        "# Perform matrix multiplication using np.dot() or the @ operator\n",
        "result = np.dot(matrix1, matrix2)\n",
        "\n",
        "# Alternatively, you can use the @ operator (introduced in Python 3.5)\n",
        "# result = matrix1 @ matrix2\n",
        "\n",
        "# Display the result\n",
        "print(\"Result of matrix multiplication:\\n\", result)\n"
      ],
      "metadata": {
        "colab": {
          "base_uri": "https://localhost:8080/"
        },
        "id": "BasEv4wsMF4M",
        "outputId": "b2ed207e-2229-446e-cf5e-4bca2a8f908f"
      },
      "execution_count": 11,
      "outputs": [
        {
          "output_type": "stream",
          "name": "stdout",
          "text": [
            "Result of matrix multiplication:\n",
            " [[19 22]\n",
            " [43 50]]\n"
          ]
        }
      ]
    },
    {
      "cell_type": "markdown",
      "source": [
        "**12. Use Pandas to load a CSV file and display its first 5 rows?**\n",
        "\n",
        "->\n",
        "Here’s a script to load a CSV file using Pandas and display its first 5 rows:\n",
        "       import pandas as pd\n",
        "\n",
        "# Load the CSV file into a DataFrame\n",
        "    df = pd.read_csv('your_file.csv')  # Replace   'your_file.csv' with the actual file path\n",
        "\n",
        "# Display the first 5 rows of the DataFrame\n",
        "    print(df.head())\n"
      ],
      "metadata": {
        "id": "7TLDDHkSMbe3"
      }
    },
    {
      "cell_type": "markdown",
      "source": [
        "**13.Create a 3D scatter plot using Plotly?**\n",
        "\n",
        "-> Here’s a script to create a 3D scatter plot using Plotly:"
      ],
      "metadata": {
        "id": "N0wLmKb8Ndrw"
      }
    },
    {
      "cell_type": "code",
      "source": [
        "import plotly.graph_objects as go\n",
        "\n",
        "# Sample data for 3D scatter plot\n",
        "x = [1, 2, 3, 4, 5]\n",
        "y = [10, 11, 12, 13, 14]\n",
        "z = [15, 16, 17, 18, 19]\n",
        "\n",
        "# Create a 3D scatter plot\n",
        "fig = go.Figure(data=[go.Scatter3d(x=x, y=y, z=z, mode='markers', marker=dict(size=8))])\n",
        "\n",
        "# Add title and labels\n",
        "fig.update_layout(\n",
        "    title='3D Scatter Plot',\n",
        "    scene=dict(\n",
        "        xaxis_title='X Axis',\n",
        "        yaxis_title='Y Axis',\n",
        "        zaxis_title='Z Axis'\n",
        "    )\n",
        ")\n",
        "\n",
        "# Show the plot\n",
        "fig.show()\n"
      ],
      "metadata": {
        "colab": {
          "base_uri": "https://localhost:8080/",
          "height": 542
        },
        "id": "tiE2U8kVMrAT",
        "outputId": "34b82ba9-8fa9-498d-93d1-e4b7b5052b9a"
      },
      "execution_count": 14,
      "outputs": [
        {
          "output_type": "display_data",
          "data": {
            "text/html": [
              "<html>\n",
              "<head><meta charset=\"utf-8\" /></head>\n",
              "<body>\n",
              "    <div>            <script src=\"https://cdnjs.cloudflare.com/ajax/libs/mathjax/2.7.5/MathJax.js?config=TeX-AMS-MML_SVG\"></script><script type=\"text/javascript\">if (window.MathJax && window.MathJax.Hub && window.MathJax.Hub.Config) {window.MathJax.Hub.Config({SVG: {font: \"STIX-Web\"}});}</script>                <script type=\"text/javascript\">window.PlotlyConfig = {MathJaxConfig: 'local'};</script>\n",
              "        <script charset=\"utf-8\" src=\"https://cdn.plot.ly/plotly-2.35.2.min.js\"></script>                <div id=\"e9008997-c4f9-45fe-961f-43380a7244a8\" class=\"plotly-graph-div\" style=\"height:525px; width:100%;\"></div>            <script type=\"text/javascript\">                                    window.PLOTLYENV=window.PLOTLYENV || {};                                    if (document.getElementById(\"e9008997-c4f9-45fe-961f-43380a7244a8\")) {                    Plotly.newPlot(                        \"e9008997-c4f9-45fe-961f-43380a7244a8\",                        [{\"marker\":{\"size\":8},\"mode\":\"markers\",\"x\":[1,2,3,4,5],\"y\":[10,11,12,13,14],\"z\":[15,16,17,18,19],\"type\":\"scatter3d\"}],                        {\"template\":{\"data\":{\"histogram2dcontour\":[{\"type\":\"histogram2dcontour\",\"colorbar\":{\"outlinewidth\":0,\"ticks\":\"\"},\"colorscale\":[[0.0,\"#0d0887\"],[0.1111111111111111,\"#46039f\"],[0.2222222222222222,\"#7201a8\"],[0.3333333333333333,\"#9c179e\"],[0.4444444444444444,\"#bd3786\"],[0.5555555555555556,\"#d8576b\"],[0.6666666666666666,\"#ed7953\"],[0.7777777777777778,\"#fb9f3a\"],[0.8888888888888888,\"#fdca26\"],[1.0,\"#f0f921\"]]}],\"choropleth\":[{\"type\":\"choropleth\",\"colorbar\":{\"outlinewidth\":0,\"ticks\":\"\"}}],\"histogram2d\":[{\"type\":\"histogram2d\",\"colorbar\":{\"outlinewidth\":0,\"ticks\":\"\"},\"colorscale\":[[0.0,\"#0d0887\"],[0.1111111111111111,\"#46039f\"],[0.2222222222222222,\"#7201a8\"],[0.3333333333333333,\"#9c179e\"],[0.4444444444444444,\"#bd3786\"],[0.5555555555555556,\"#d8576b\"],[0.6666666666666666,\"#ed7953\"],[0.7777777777777778,\"#fb9f3a\"],[0.8888888888888888,\"#fdca26\"],[1.0,\"#f0f921\"]]}],\"heatmap\":[{\"type\":\"heatmap\",\"colorbar\":{\"outlinewidth\":0,\"ticks\":\"\"},\"colorscale\":[[0.0,\"#0d0887\"],[0.1111111111111111,\"#46039f\"],[0.2222222222222222,\"#7201a8\"],[0.3333333333333333,\"#9c179e\"],[0.4444444444444444,\"#bd3786\"],[0.5555555555555556,\"#d8576b\"],[0.6666666666666666,\"#ed7953\"],[0.7777777777777778,\"#fb9f3a\"],[0.8888888888888888,\"#fdca26\"],[1.0,\"#f0f921\"]]}],\"heatmapgl\":[{\"type\":\"heatmapgl\",\"colorbar\":{\"outlinewidth\":0,\"ticks\":\"\"},\"colorscale\":[[0.0,\"#0d0887\"],[0.1111111111111111,\"#46039f\"],[0.2222222222222222,\"#7201a8\"],[0.3333333333333333,\"#9c179e\"],[0.4444444444444444,\"#bd3786\"],[0.5555555555555556,\"#d8576b\"],[0.6666666666666666,\"#ed7953\"],[0.7777777777777778,\"#fb9f3a\"],[0.8888888888888888,\"#fdca26\"],[1.0,\"#f0f921\"]]}],\"contourcarpet\":[{\"type\":\"contourcarpet\",\"colorbar\":{\"outlinewidth\":0,\"ticks\":\"\"}}],\"contour\":[{\"type\":\"contour\",\"colorbar\":{\"outlinewidth\":0,\"ticks\":\"\"},\"colorscale\":[[0.0,\"#0d0887\"],[0.1111111111111111,\"#46039f\"],[0.2222222222222222,\"#7201a8\"],[0.3333333333333333,\"#9c179e\"],[0.4444444444444444,\"#bd3786\"],[0.5555555555555556,\"#d8576b\"],[0.6666666666666666,\"#ed7953\"],[0.7777777777777778,\"#fb9f3a\"],[0.8888888888888888,\"#fdca26\"],[1.0,\"#f0f921\"]]}],\"surface\":[{\"type\":\"surface\",\"colorbar\":{\"outlinewidth\":0,\"ticks\":\"\"},\"colorscale\":[[0.0,\"#0d0887\"],[0.1111111111111111,\"#46039f\"],[0.2222222222222222,\"#7201a8\"],[0.3333333333333333,\"#9c179e\"],[0.4444444444444444,\"#bd3786\"],[0.5555555555555556,\"#d8576b\"],[0.6666666666666666,\"#ed7953\"],[0.7777777777777778,\"#fb9f3a\"],[0.8888888888888888,\"#fdca26\"],[1.0,\"#f0f921\"]]}],\"mesh3d\":[{\"type\":\"mesh3d\",\"colorbar\":{\"outlinewidth\":0,\"ticks\":\"\"}}],\"scatter\":[{\"fillpattern\":{\"fillmode\":\"overlay\",\"size\":10,\"solidity\":0.2},\"type\":\"scatter\"}],\"parcoords\":[{\"type\":\"parcoords\",\"line\":{\"colorbar\":{\"outlinewidth\":0,\"ticks\":\"\"}}}],\"scatterpolargl\":[{\"type\":\"scatterpolargl\",\"marker\":{\"colorbar\":{\"outlinewidth\":0,\"ticks\":\"\"}}}],\"bar\":[{\"error_x\":{\"color\":\"#2a3f5f\"},\"error_y\":{\"color\":\"#2a3f5f\"},\"marker\":{\"line\":{\"color\":\"#E5ECF6\",\"width\":0.5},\"pattern\":{\"fillmode\":\"overlay\",\"size\":10,\"solidity\":0.2}},\"type\":\"bar\"}],\"scattergeo\":[{\"type\":\"scattergeo\",\"marker\":{\"colorbar\":{\"outlinewidth\":0,\"ticks\":\"\"}}}],\"scatterpolar\":[{\"type\":\"scatterpolar\",\"marker\":{\"colorbar\":{\"outlinewidth\":0,\"ticks\":\"\"}}}],\"histogram\":[{\"marker\":{\"pattern\":{\"fillmode\":\"overlay\",\"size\":10,\"solidity\":0.2}},\"type\":\"histogram\"}],\"scattergl\":[{\"type\":\"scattergl\",\"marker\":{\"colorbar\":{\"outlinewidth\":0,\"ticks\":\"\"}}}],\"scatter3d\":[{\"type\":\"scatter3d\",\"line\":{\"colorbar\":{\"outlinewidth\":0,\"ticks\":\"\"}},\"marker\":{\"colorbar\":{\"outlinewidth\":0,\"ticks\":\"\"}}}],\"scattermapbox\":[{\"type\":\"scattermapbox\",\"marker\":{\"colorbar\":{\"outlinewidth\":0,\"ticks\":\"\"}}}],\"scatterternary\":[{\"type\":\"scatterternary\",\"marker\":{\"colorbar\":{\"outlinewidth\":0,\"ticks\":\"\"}}}],\"scattercarpet\":[{\"type\":\"scattercarpet\",\"marker\":{\"colorbar\":{\"outlinewidth\":0,\"ticks\":\"\"}}}],\"carpet\":[{\"aaxis\":{\"endlinecolor\":\"#2a3f5f\",\"gridcolor\":\"white\",\"linecolor\":\"white\",\"minorgridcolor\":\"white\",\"startlinecolor\":\"#2a3f5f\"},\"baxis\":{\"endlinecolor\":\"#2a3f5f\",\"gridcolor\":\"white\",\"linecolor\":\"white\",\"minorgridcolor\":\"white\",\"startlinecolor\":\"#2a3f5f\"},\"type\":\"carpet\"}],\"table\":[{\"cells\":{\"fill\":{\"color\":\"#EBF0F8\"},\"line\":{\"color\":\"white\"}},\"header\":{\"fill\":{\"color\":\"#C8D4E3\"},\"line\":{\"color\":\"white\"}},\"type\":\"table\"}],\"barpolar\":[{\"marker\":{\"line\":{\"color\":\"#E5ECF6\",\"width\":0.5},\"pattern\":{\"fillmode\":\"overlay\",\"size\":10,\"solidity\":0.2}},\"type\":\"barpolar\"}],\"pie\":[{\"automargin\":true,\"type\":\"pie\"}]},\"layout\":{\"autotypenumbers\":\"strict\",\"colorway\":[\"#636efa\",\"#EF553B\",\"#00cc96\",\"#ab63fa\",\"#FFA15A\",\"#19d3f3\",\"#FF6692\",\"#B6E880\",\"#FF97FF\",\"#FECB52\"],\"font\":{\"color\":\"#2a3f5f\"},\"hovermode\":\"closest\",\"hoverlabel\":{\"align\":\"left\"},\"paper_bgcolor\":\"white\",\"plot_bgcolor\":\"#E5ECF6\",\"polar\":{\"bgcolor\":\"#E5ECF6\",\"angularaxis\":{\"gridcolor\":\"white\",\"linecolor\":\"white\",\"ticks\":\"\"},\"radialaxis\":{\"gridcolor\":\"white\",\"linecolor\":\"white\",\"ticks\":\"\"}},\"ternary\":{\"bgcolor\":\"#E5ECF6\",\"aaxis\":{\"gridcolor\":\"white\",\"linecolor\":\"white\",\"ticks\":\"\"},\"baxis\":{\"gridcolor\":\"white\",\"linecolor\":\"white\",\"ticks\":\"\"},\"caxis\":{\"gridcolor\":\"white\",\"linecolor\":\"white\",\"ticks\":\"\"}},\"coloraxis\":{\"colorbar\":{\"outlinewidth\":0,\"ticks\":\"\"}},\"colorscale\":{\"sequential\":[[0.0,\"#0d0887\"],[0.1111111111111111,\"#46039f\"],[0.2222222222222222,\"#7201a8\"],[0.3333333333333333,\"#9c179e\"],[0.4444444444444444,\"#bd3786\"],[0.5555555555555556,\"#d8576b\"],[0.6666666666666666,\"#ed7953\"],[0.7777777777777778,\"#fb9f3a\"],[0.8888888888888888,\"#fdca26\"],[1.0,\"#f0f921\"]],\"sequentialminus\":[[0.0,\"#0d0887\"],[0.1111111111111111,\"#46039f\"],[0.2222222222222222,\"#7201a8\"],[0.3333333333333333,\"#9c179e\"],[0.4444444444444444,\"#bd3786\"],[0.5555555555555556,\"#d8576b\"],[0.6666666666666666,\"#ed7953\"],[0.7777777777777778,\"#fb9f3a\"],[0.8888888888888888,\"#fdca26\"],[1.0,\"#f0f921\"]],\"diverging\":[[0,\"#8e0152\"],[0.1,\"#c51b7d\"],[0.2,\"#de77ae\"],[0.3,\"#f1b6da\"],[0.4,\"#fde0ef\"],[0.5,\"#f7f7f7\"],[0.6,\"#e6f5d0\"],[0.7,\"#b8e186\"],[0.8,\"#7fbc41\"],[0.9,\"#4d9221\"],[1,\"#276419\"]]},\"xaxis\":{\"gridcolor\":\"white\",\"linecolor\":\"white\",\"ticks\":\"\",\"title\":{\"standoff\":15},\"zerolinecolor\":\"white\",\"automargin\":true,\"zerolinewidth\":2},\"yaxis\":{\"gridcolor\":\"white\",\"linecolor\":\"white\",\"ticks\":\"\",\"title\":{\"standoff\":15},\"zerolinecolor\":\"white\",\"automargin\":true,\"zerolinewidth\":2},\"scene\":{\"xaxis\":{\"backgroundcolor\":\"#E5ECF6\",\"gridcolor\":\"white\",\"linecolor\":\"white\",\"showbackground\":true,\"ticks\":\"\",\"zerolinecolor\":\"white\",\"gridwidth\":2},\"yaxis\":{\"backgroundcolor\":\"#E5ECF6\",\"gridcolor\":\"white\",\"linecolor\":\"white\",\"showbackground\":true,\"ticks\":\"\",\"zerolinecolor\":\"white\",\"gridwidth\":2},\"zaxis\":{\"backgroundcolor\":\"#E5ECF6\",\"gridcolor\":\"white\",\"linecolor\":\"white\",\"showbackground\":true,\"ticks\":\"\",\"zerolinecolor\":\"white\",\"gridwidth\":2}},\"shapedefaults\":{\"line\":{\"color\":\"#2a3f5f\"}},\"annotationdefaults\":{\"arrowcolor\":\"#2a3f5f\",\"arrowhead\":0,\"arrowwidth\":1},\"geo\":{\"bgcolor\":\"white\",\"landcolor\":\"#E5ECF6\",\"subunitcolor\":\"white\",\"showland\":true,\"showlakes\":true,\"lakecolor\":\"white\"},\"title\":{\"x\":0.05},\"mapbox\":{\"style\":\"light\"}}},\"title\":{\"text\":\"3D Scatter Plot\"},\"scene\":{\"xaxis\":{\"title\":{\"text\":\"X Axis\"}},\"yaxis\":{\"title\":{\"text\":\"Y Axis\"}},\"zaxis\":{\"title\":{\"text\":\"Z Axis\"}}}},                        {\"responsive\": true}                    ).then(function(){\n",
              "                            \n",
              "var gd = document.getElementById('e9008997-c4f9-45fe-961f-43380a7244a8');\n",
              "var x = new MutationObserver(function (mutations, observer) {{\n",
              "        var display = window.getComputedStyle(gd).display;\n",
              "        if (!display || display === 'none') {{\n",
              "            console.log([gd, 'removed!']);\n",
              "            Plotly.purge(gd);\n",
              "            observer.disconnect();\n",
              "        }}\n",
              "}});\n",
              "\n",
              "// Listen for the removal of the full notebook cells\n",
              "var notebookContainer = gd.closest('#notebook-container');\n",
              "if (notebookContainer) {{\n",
              "    x.observe(notebookContainer, {childList: true});\n",
              "}}\n",
              "\n",
              "// Listen for the clearing of the current output cell\n",
              "var outputEl = gd.closest('.output');\n",
              "if (outputEl) {{\n",
              "    x.observe(outputEl, {childList: true});\n",
              "}}\n",
              "\n",
              "                        })                };                            </script>        </div>\n",
              "</body>\n",
              "</html>"
            ]
          },
          "metadata": {}
        }
      ]
    },
    {
      "cell_type": "code",
      "source": [],
      "metadata": {
        "id": "K_2S6hN9Nw0y"
      },
      "execution_count": null,
      "outputs": []
    }
  ]
}